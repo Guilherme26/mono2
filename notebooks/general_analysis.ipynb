{
 "cells": [
  {
   "cell_type": "code",
   "execution_count": 1,
   "metadata": {},
   "outputs": [],
   "source": [
    "import pandas as pd\n",
    "import numpy as np\n",
    "import shap\n",
    "import itertools\n",
    "import plotly.graph_objects as go\n",
    "import matplotlib.pyplot as plt\n",
    "import yaml\n",
    "import sys\n",
    "\n",
    "from xgboost import XGBClassifier\n",
    "from sklearn.model_selection import KFold\n",
    "from sklearn.metrics import f1_score\n",
    "from sklearn.metrics import roc_auc_score\n",
    "\n",
    "sys.path.insert(1, '/home/guilherme-resende/Desktop/mono2/utils')\n",
    "import qif\n",
    "from categorize import Categorize"
   ]
  },
  {
   "cell_type": "code",
   "execution_count": 2,
   "metadata": {},
   "outputs": [],
   "source": [
    "RANDOM_SEED = 1\n",
    "MAX_DEPTHS = [2,4,8,16]\n",
    "N_ESTIMATORS = [16,32,64,128,256]\n",
    "\n",
    "np.random.seed(RANDOM_SEED)"
   ]
  },
  {
   "cell_type": "markdown",
   "metadata": {},
   "source": [
    "#### Load Data"
   ]
  },
  {
   "cell_type": "code",
   "execution_count": 3,
   "metadata": {},
   "outputs": [],
   "source": [
    "ds_name = \"adult\""
   ]
  },
  {
   "cell_type": "code",
   "execution_count": 4,
   "metadata": {},
   "outputs": [
    {
     "name": "stderr",
     "output_type": "stream",
     "text": [
      "/home/guilherme-resende/anaconda3/lib/python3.7/site-packages/ipykernel_launcher.py:1: YAMLLoadWarning:\n",
      "\n",
      "calling yaml.load() without Loader=... is deprecated, as the default Loader is unsafe. Please read https://msg.pyyaml.org/load for full details.\n",
      "\n"
     ]
    }
   ],
   "source": [
    "datasets = yaml.load(open(\"datasets.yaml\"))\n",
    "df = pd.read_csv(datasets[ds_name][\"path\"])\n",
    "\n",
    "pre_process = Categorize(\n",
    "    df,\n",
    "    datasets[ds_name][\"binary_cols\"],\n",
    "    datasets[ds_name][\"hierarchical_continuous_cols\"],\n",
    "    datasets[ds_name][\"non_hierarchical_cols\"]\n",
    ")\n",
    "\n",
    "df = pre_process.transform_data()\n",
    "\n",
    "df_train = df.loc[df.set == \"train\"].drop(\"set\", axis=1)\n",
    "df_test = df.loc[df.set == \"test\"].drop(\"set\", axis=1)\n",
    "\n",
    "del df"
   ]
  },
  {
   "cell_type": "code",
   "execution_count": 5,
   "metadata": {},
   "outputs": [],
   "source": [
    "# I'll consider dividing the training set into training and validation.\n",
    "# The final model will be trained on the entire training set and tested on test set\n",
    "\n",
    "X = df_train.drop(\"target\", axis=1)\n",
    "Y = df_train.target.values"
   ]
  },
  {
   "cell_type": "markdown",
   "metadata": {},
   "source": [
    "#### Select the best parameters combination"
   ]
  },
  {
   "cell_type": "code",
   "execution_count": null,
   "metadata": {},
   "outputs": [],
   "source": [
    "data = []\n",
    "for max_depth, n_estimators in itertools.product(MAX_DEPTHS, N_ESTIMATORS):\n",
    "    kf = KFold(n_splits=5)\n",
    "    for fold, (train_idx, valid_idx) in enumerate(kf.split(X)):\n",
    "        model = XGBClassifier(max_depth=max_depth, n_estimators=n_estimators)\n",
    "        model.fit(X.iloc[train_idx].values, Y[train_idx])\n",
    "\n",
    "        preds = model.predict(X.iloc[valid_idx].values)\n",
    "        preds_proba = model.predict_proba(X.iloc[valid_idx].values)[:, 1:]\n",
    "\n",
    "        f1 = f1_score(Y[valid_idx], preds)\n",
    "        auc = roc_auc_score(Y[valid_idx], preds_proba)\n",
    "\n",
    "        data.append([max_depth, n_estimators, fold, f1, auc])\n",
    "           \n",
    "df_results = pd.DataFrame(data, columns=[\"max_depth\", \"n_estimators\", \"fold\", \"f1_score\", \"auc\"])"
   ]
  },
  {
   "cell_type": "code",
   "execution_count": null,
   "metadata": {},
   "outputs": [],
   "source": [
    "df_results = (\n",
    "    df_results.groupby([\"max_depth\", \"n_estimators\"])\n",
    "    .agg(\n",
    "        mean_f1_score=(\"f1_score\", \"mean\"),\n",
    "        mean_auc=(\"auc\", \"mean\"),\n",
    "    )\n",
    "    .reset_index()\n",
    ")"
   ]
  },
  {
   "cell_type": "code",
   "execution_count": null,
   "metadata": {},
   "outputs": [],
   "source": [
    "fig = go.Figure(\n",
    "    data=go.Heatmap(\n",
    "        x=df_results.max_depth,\n",
    "        y=df_results.n_estimators,\n",
    "        z=df_results.mean_f1_score,\n",
    "        colorbar={\n",
    "            \"title\":\"Mean F1-Score\"\n",
    "        }\n",
    "    )\n",
    ")\n",
    "\n",
    "fig.update_layout(\n",
    "    title=\"Mean F1-Score for Each Parameter Combination\",\n",
    "    xaxis_title=\"Maximal Depth\",\n",
    "    yaxis_title=\"Number of Estimators\",\n",
    ")\n",
    "\n",
    "fig.update_xaxes(type='category')\n",
    "fig.update_yaxes(type='category')\n",
    "\n",
    "fig.show()"
   ]
  },
  {
   "cell_type": "code",
   "execution_count": null,
   "metadata": {},
   "outputs": [],
   "source": [
    "fig = go.Figure(\n",
    "    data=go.Heatmap(\n",
    "        x=df_results.max_depth,\n",
    "        y=df_results.n_estimators,\n",
    "        z=df_results.mean_auc,\n",
    "        colorbar={\n",
    "            \"title\":\"Mean F1-Score\"\n",
    "        }\n",
    "    )\n",
    ")\n",
    "\n",
    "fig.update_layout(\n",
    "    title=\"Mean AUC for Each Parameter Combination\",\n",
    "    xaxis_title=\"Maximal Depth\",\n",
    "    yaxis_title=\"Number of Estimators\",\n",
    ")\n",
    "\n",
    "fig.update_xaxes(type='category')\n",
    "fig.update_yaxes(type='category')\n",
    "\n",
    "fig.show()"
   ]
  },
  {
   "cell_type": "markdown",
   "metadata": {},
   "source": [
    "#### Train and Test the Best Model"
   ]
  },
  {
   "cell_type": "code",
   "execution_count": null,
   "metadata": {},
   "outputs": [],
   "source": [
    "X_test = df_test.drop(\"target\", axis=1)\n",
    "Y_test = df_test.target.values"
   ]
  },
  {
   "cell_type": "code",
   "execution_count": null,
   "metadata": {},
   "outputs": [],
   "source": [
    "model = XGBClassifier(max_depth=4, n_estimators=128)\n",
    "model.fit(X.values, Y)"
   ]
  },
  {
   "cell_type": "code",
   "execution_count": null,
   "metadata": {},
   "outputs": [],
   "source": [
    "preds = model.predict(X_test.values)\n",
    "preds_proba = model.predict_proba(X_test.values)[:, 1:]\n",
    "df_test[\"preds_proba\"] = preds_proba"
   ]
  },
  {
   "cell_type": "code",
   "execution_count": null,
   "metadata": {},
   "outputs": [],
   "source": [
    "print(\"Metrics:\")\n",
    "print(\"\\tF1-Score ->\", f1_score(Y_test, preds))\n",
    "print(\"\\tAUC ->\", roc_auc_score(Y_test, preds_proba))"
   ]
  },
  {
   "cell_type": "markdown",
   "metadata": {},
   "source": [
    "#### Get the SHAP scores"
   ]
  },
  {
   "cell_type": "code",
   "execution_count": null,
   "metadata": {},
   "outputs": [],
   "source": [
    "explainer = shap.TreeExplainer(model)\n",
    "shap_values = explainer.shap_values(X_test.values)\n",
    "\n",
    "shap_values = shap_values.mean(axis=0)"
   ]
  },
  {
   "cell_type": "markdown",
   "metadata": {},
   "source": [
    "#### Get the QIF scores"
   ]
  },
  {
   "cell_type": "code",
   "execution_count": null,
   "metadata": {},
   "outputs": [],
   "source": [
    "bayes_leakage = qif.BayesLeakage(df_test)"
   ]
  },
  {
   "cell_type": "code",
   "execution_count": null,
   "metadata": {},
   "outputs": [],
   "source": [
    "feature_names = X_test.columns"
   ]
  },
  {
   "cell_type": "code",
   "execution_count": null,
   "metadata": {},
   "outputs": [],
   "source": [
    "qif_values = []\n",
    "for feature in feature_names:\n",
    "    leakage = bayes_leakage.compute_flows(x=feature, y='preds_proba')\n",
    "    qif_values.append(leakage[0])\n",
    "\n",
    "qif_values = np.array(qif_values)\n",
    "qif_values = qif_values / qif_values.sum() # Normalize"
   ]
  },
  {
   "cell_type": "markdown",
   "metadata": {},
   "source": [
    "#### Save Coeficients"
   ]
  },
  {
   "cell_type": "code",
   "execution_count": null,
   "metadata": {},
   "outputs": [],
   "source": [
    "df = pd.DataFrame([shap_values, qif_values], columns=feature_names)\n",
    "df[\"method\"] = [\"SHAP\", \"QIF\"]\n",
    "\n",
    "df.to_csv(f\"../data/results/{ds_name}_coeficients.csv\")"
   ]
  },
  {
   "cell_type": "code",
   "execution_count": null,
   "metadata": {},
   "outputs": [],
   "source": []
  }
 ],
 "metadata": {
  "kernelspec": {
   "display_name": "Python 3",
   "language": "python",
   "name": "python3"
  },
  "language_info": {
   "codemirror_mode": {
    "name": "ipython",
    "version": 3
   },
   "file_extension": ".py",
   "mimetype": "text/x-python",
   "name": "python",
   "nbconvert_exporter": "python",
   "pygments_lexer": "ipython3",
   "version": "3.7.6"
  }
 },
 "nbformat": 4,
 "nbformat_minor": 4
}
