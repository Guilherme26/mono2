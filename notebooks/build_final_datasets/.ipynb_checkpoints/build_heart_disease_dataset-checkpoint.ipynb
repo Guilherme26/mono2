{
 "cells": [
  {
   "cell_type": "code",
   "execution_count": 1,
   "metadata": {},
   "outputs": [],
   "source": [
    "import pandas as pd\n",
    "\n",
    "from sklearn.model_selection import train_test_split"
   ]
  },
  {
   "cell_type": "markdown",
   "metadata": {},
   "source": [
    "#### Load Data"
   ]
  },
  {
   "cell_type": "code",
   "execution_count": 2,
   "metadata": {},
   "outputs": [],
   "source": [
    "col_names = [\n",
    "    \"age\",\n",
    "    \"sex\",\n",
    "    \"chest-pain\",\n",
    "    \"trestbps\",\n",
    "    \"chol\",\n",
    "    \"fbs\",\n",
    "    \"restecg\",\n",
    "    \"thalach\",\n",
    "    \"exang\",\n",
    "    \"oldpeak\",\n",
    "    \"slope\",\n",
    "    \"ca\",\n",
    "    \"thal\",\n",
    "    \"targets\"\n",
    "]\n",
    "\n",
    "df = pd.concat(\n",
    "    [\n",
    "        pd.read_csv(\"../data/heart-disease/processed.cleveland.data\", names=col_names, na_values=\"?\"),\n",
    "        pd.read_csv(\"../data/heart-disease/processed.hungarian.data\", names=col_names, na_values=\"?\"),\n",
    "        pd.read_csv(\"../data/heart-disease/processed.switzerland.data\", names=col_names, na_values=\"?\"),\n",
    "        pd.read_csv(\"../data/heart-disease/processed.va.data\", names=col_names, na_values=\"?\")\n",
    "    ]\n",
    ")\n",
    "\n",
    "df_train, df_test = train_test_split(df.copy())\n",
    "\n",
    "df_train[\"set\"] = \"train\"\n",
    "df_test[\"set\"] = \"test\"\n",
    "\n",
    "df = pd.concat([df_train, df_test])"
   ]
  },
  {
   "cell_type": "markdown",
   "metadata": {},
   "source": [
    "#### Build Targets"
   ]
  },
  {
   "cell_type": "code",
   "execution_count": 3,
   "metadata": {},
   "outputs": [],
   "source": [
    "df[\"targets\"] = df.targets.apply(lambda value: 0 if value == 0 else 1)"
   ]
  },
  {
   "cell_type": "markdown",
   "metadata": {},
   "source": [
    "#### Save Data"
   ]
  },
  {
   "cell_type": "code",
   "execution_count": 4,
   "metadata": {},
   "outputs": [],
   "source": [
    "df.to_csv(\"../data/heart-disease/heart_disease_data.csv\", index=False)"
   ]
  },
  {
   "cell_type": "code",
   "execution_count": null,
   "metadata": {},
   "outputs": [],
   "source": []
  }
 ],
 "metadata": {
  "kernelspec": {
   "display_name": "Python 3",
   "language": "python",
   "name": "python3"
  },
  "language_info": {
   "codemirror_mode": {
    "name": "ipython",
    "version": 3
   },
   "file_extension": ".py",
   "mimetype": "text/x-python",
   "name": "python",
   "nbconvert_exporter": "python",
   "pygments_lexer": "ipython3",
   "version": "3.7.6"
  }
 },
 "nbformat": 4,
 "nbformat_minor": 4
}
