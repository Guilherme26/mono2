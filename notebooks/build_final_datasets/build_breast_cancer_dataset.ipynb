{
 "cells": [
  {
   "cell_type": "code",
   "execution_count": null,
   "metadata": {},
   "outputs": [],
   "source": [
    "import pandas as pd\n",
    "\n",
    "from sklearn.model_selection import train_test_split"
   ]
  },
  {
   "cell_type": "code",
   "execution_count": null,
   "metadata": {},
   "outputs": [],
   "source": [
    "col_names = [\n",
    "    \"id\",\n",
    "    \"clump-thickness\",\n",
    "    \"uniformity-cell-size\",\n",
    "    \"uniformity-cell-shape\",\n",
    "    \"marginal-adhesion\",\n",
    "    \"epithelial-cell-size\",\n",
    "    \"bare-nuclei\",\n",
    "    \"bland-chromatin\",\n",
    "    \"normal-nucleoli\",\n",
    "    \"mitoses\",\n",
    "    \"targets\"\n",
    "]\n",
    "\n",
    "df = pd.read_csv(\"../data/breast-cancer/breast-cancer-wisconsin.data\", names=col_names, na_values=\"?\")\n",
    "\n",
    "df_train, df_test = train_test_split(df.copy())\n",
    "\n",
    "df_train[\"set\"] = \"train\"\n",
    "df_test[\"set\"] = \"test\"\n",
    "\n",
    "df = pd.concat([df_train, df_test])"
   ]
  },
  {
   "cell_type": "code",
   "execution_count": null,
   "metadata": {},
   "outputs": [],
   "source": [
    "df = df.drop(\"id\", axis=1)"
   ]
  },
  {
   "cell_type": "markdown",
   "metadata": {},
   "source": [
    "#### Build Targets"
   ]
  },
  {
   "cell_type": "code",
   "execution_count": null,
   "metadata": {},
   "outputs": [],
   "source": [
    "df[\"targets\"] = df.targets.apply(lambda value: 1 if value == 4 else 0)"
   ]
  },
  {
   "cell_type": "markdown",
   "metadata": {},
   "source": [
    "#### Save Data"
   ]
  },
  {
   "cell_type": "code",
   "execution_count": null,
   "metadata": {},
   "outputs": [],
   "source": [
    "df.to_csv(\"../data/breast-cancer/breast_cancer_data.csv\", index=False)"
   ]
  },
  {
   "cell_type": "code",
   "execution_count": null,
   "metadata": {},
   "outputs": [],
   "source": []
  }
 ],
 "metadata": {
  "kernelspec": {
   "display_name": "Python 3",
   "language": "python",
   "name": "python3"
  },
  "language_info": {
   "codemirror_mode": {
    "name": "ipython",
    "version": 3
   },
   "file_extension": ".py",
   "mimetype": "text/x-python",
   "name": "python",
   "nbconvert_exporter": "python",
   "pygments_lexer": "ipython3",
   "version": "3.7.6"
  }
 },
 "nbformat": 4,
 "nbformat_minor": 4
}
