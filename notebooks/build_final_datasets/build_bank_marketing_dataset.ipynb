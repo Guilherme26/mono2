{
 "cells": [
  {
   "cell_type": "code",
   "execution_count": null,
   "metadata": {},
   "outputs": [],
   "source": [
    "import pandas as pd\n",
    "import calendar\n",
    "\n",
    "from sklearn.model_selection import train_test_split"
   ]
  },
  {
   "cell_type": "markdown",
   "metadata": {},
   "source": [
    "#### Load Data"
   ]
  },
  {
   "cell_type": "code",
   "execution_count": null,
   "metadata": {},
   "outputs": [],
   "source": [
    "df = pd.read_csv(\"../data/bank-marketing/bank-full.csv\", sep=\";\")\n",
    "\n",
    "df_train, df_test = train_test_split(df.copy())\n",
    "\n",
    "df_train[\"set\"] = \"train\"\n",
    "df_test[\"set\"] = \"test\"\n",
    "\n",
    "df = pd.concat([df_train, df_test])"
   ]
  },
  {
   "cell_type": "markdown",
   "metadata": {},
   "source": [
    "#### Define Functions"
   ]
  },
  {
   "cell_type": "code",
   "execution_count": null,
   "metadata": {},
   "outputs": [],
   "source": [
    "def map_education(value):\n",
    "    if value == \"unknown\":\n",
    "        return 0\n",
    "    elif value == \"primary\":\n",
    "        return 1\n",
    "    elif value == \"secondary\":\n",
    "        return 2\n",
    "    return 3\n",
    "\n",
    "map_month = {month.lower(): i for i, month in enumerate(calendar.month_abbr)}"
   ]
  },
  {
   "cell_type": "markdown",
   "metadata": {},
   "source": [
    "#### Transform Hierarchical Categorical Columns"
   ]
  },
  {
   "cell_type": "code",
   "execution_count": null,
   "metadata": {},
   "outputs": [],
   "source": [
    "df[\"pdays\"] = df[\"pdays\"].apply(lambda value: 1 if value > 0 else 0)\n",
    "df[\"poutcome\"] = df[\"poutcome\"].apply(lambda value: 1 if value == \"success\" else 0)\n",
    "df[\"month\"] = df[\"month\"].map(map_month)\n",
    "df[\"education\"] = df[\"education\"].map(map_education)\n",
    "df[\"y\"] = df[\"y\"].apply(lambda value: 1 if value == \"yes\" else 0)\n",
    "\n",
    "df = df.rename(columns={\"y\":\"targets\"})"
   ]
  },
  {
   "cell_type": "markdown",
   "metadata": {},
   "source": [
    "#### Save Data"
   ]
  },
  {
   "cell_type": "code",
   "execution_count": null,
   "metadata": {},
   "outputs": [],
   "source": [
    "df.to_csv(\"../data/bank-marketing/bank_data.csv\", index=False)"
   ]
  },
  {
   "cell_type": "code",
   "execution_count": null,
   "metadata": {},
   "outputs": [],
   "source": []
  }
 ],
 "metadata": {
  "kernelspec": {
   "display_name": "Python 3",
   "language": "python",
   "name": "python3"
  },
  "language_info": {
   "codemirror_mode": {
    "name": "ipython",
    "version": 3
   },
   "file_extension": ".py",
   "mimetype": "text/x-python",
   "name": "python",
   "nbconvert_exporter": "python",
   "pygments_lexer": "ipython3",
   "version": "3.7.6"
  }
 },
 "nbformat": 4,
 "nbformat_minor": 4
}
