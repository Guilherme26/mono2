{
 "cells": [
  {
   "cell_type": "code",
   "execution_count": 16,
   "metadata": {},
   "outputs": [],
   "source": [
    "import seaborn as sns\n",
    "import pandas as pd\n",
    "import numpy as np\n",
    "import shap\n",
    "import itertools\n",
    "import plotly.graph_objects as go\n",
    "import matplotlib.pyplot as plt\n",
    "import yaml\n",
    "import sys\n",
    "\n",
    "from scipy.stats import kendalltau, pearsonr\n",
    "from sklearn.metrics import jaccard_similarity_score\n",
    "from sklearn.linear_model import LogisticRegression\n",
    "from xgboost import XGBClassifier\n",
    "from sklearn.model_selection import KFold\n",
    "from sklearn.metrics import f1_score\n",
    "from sklearn.metrics import roc_auc_score\n",
    "\n",
    "sys.path.insert(1, '/home/guilherme-resende/Desktop/mono2/utils')\n",
    "import qif\n",
    "from categorize import Categorize"
   ]
  },
  {
   "cell_type": "code",
   "execution_count": 17,
   "metadata": {},
   "outputs": [],
   "source": [
    "sns.set()"
   ]
  },
  {
   "cell_type": "code",
   "execution_count": 18,
   "metadata": {},
   "outputs": [],
   "source": [
    "RANDOM_SEED = 1\n",
    "np.random.seed(RANDOM_SEED)"
   ]
  },
  {
   "cell_type": "markdown",
   "metadata": {},
   "source": [
    "#### Load Data"
   ]
  },
  {
   "cell_type": "code",
   "execution_count": 19,
   "metadata": {},
   "outputs": [],
   "source": [
    "ds_name = \"adult\""
   ]
  },
  {
   "cell_type": "code",
   "execution_count": 20,
   "metadata": {},
   "outputs": [
    {
     "name": "stderr",
     "output_type": "stream",
     "text": [
      "/home/guilherme-resende/anaconda3/lib/python3.7/site-packages/ipykernel_launcher.py:1: YAMLLoadWarning:\n",
      "\n",
      "calling yaml.load() without Loader=... is deprecated, as the default Loader is unsafe. Please read https://msg.pyyaml.org/load for full details.\n",
      "\n"
     ]
    }
   ],
   "source": [
    "datasets = yaml.load(open(\"datasets.yaml\"))\n",
    "df = pd.read_csv(datasets[ds_name][\"path\"])\n",
    "\n",
    "pre_process = Categorize(\n",
    "    df,\n",
    "    binary_cols=datasets[ds_name][\"binary_cols\"],\n",
    "    hierarchical_continuous_cols=datasets[ds_name][\"hierarchical_continuous_cols\"],\n",
    "    non_hierarchical_cols=datasets[ds_name][\"non_hierarchical_cols\"]\n",
    ")\n",
    "\n",
    "df = pre_process.transform_data()\n",
    "\n",
    "df_train = df.loc[df.set == \"train\"].drop(\"set\", axis=1)\n",
    "df_test = df.loc[df.set == \"test\"].drop(\"set\", axis=1)\n",
    "\n",
    "del df"
   ]
  },
  {
   "cell_type": "code",
   "execution_count": 21,
   "metadata": {},
   "outputs": [],
   "source": [
    "# I'll consider dividing the training set into training and validation.\n",
    "# The final model will be trained on the entire training set and tested on test set\n",
    "\n",
    "X = df_train.drop(\"targets\", axis=1)\n",
    "Y = df_train.targets\n",
    "\n",
    "X_test = df_test.drop(\"targets\", axis=1)\n",
    "Y_test = df_test.targets.values"
   ]
  },
  {
   "cell_type": "markdown",
   "metadata": {},
   "source": [
    "#### Train XGBoost"
   ]
  },
  {
   "cell_type": "code",
   "execution_count": 22,
   "metadata": {},
   "outputs": [
    {
     "data": {
      "text/plain": [
       "XGBClassifier(base_score=0.5, booster='gbtree', colsample_bylevel=1,\n",
       "              colsample_bynode=1, colsample_bytree=1, gamma=0,\n",
       "              learning_rate=0.1, max_delta_step=0, max_depth=8,\n",
       "              min_child_weight=1, missing=None, n_estimators=128, n_jobs=1,\n",
       "              nthread=None, objective='binary:logistic', random_state=0,\n",
       "              reg_alpha=0, reg_lambda=1, scale_pos_weight=1, seed=None,\n",
       "              silent=None, subsample=1, verbosity=1)"
      ]
     },
     "execution_count": 22,
     "metadata": {},
     "output_type": "execute_result"
    }
   ],
   "source": [
    "xgb = XGBClassifier(max_depth=8, n_estimators=128)\n",
    "xgb.fit(X.values, Y)"
   ]
  },
  {
   "cell_type": "code",
   "execution_count": 23,
   "metadata": {},
   "outputs": [
    {
     "name": "stdout",
     "output_type": "stream",
     "text": [
      "Metrics:\n",
      "\tF1-Score -> 0.6332631578947369\n",
      "\tAUC -> 0.8888990404811206\n"
     ]
    }
   ],
   "source": [
    "preds = xgb.predict(X_test.values)\n",
    "preds_proba = xgb.predict_proba(X_test.values)[:, 1:]\n",
    "df_test[\"preds_proba\"] = preds_proba\n",
    "\n",
    "print(\"Metrics:\")\n",
    "print(\"\\tF1-Score ->\", f1_score(Y_test, preds))\n",
    "print(\"\\tAUC ->\", roc_auc_score(Y_test, preds_proba))"
   ]
  },
  {
   "cell_type": "markdown",
   "metadata": {},
   "source": [
    "#### Get the SHAP scores"
   ]
  },
  {
   "cell_type": "code",
   "execution_count": 24,
   "metadata": {},
   "outputs": [
    {
     "name": "stderr",
     "output_type": "stream",
     "text": [
      "/home/guilherme-resende/anaconda3/lib/python3.7/site-packages/shap/explainers/tree.py:114: UserWarning:\n",
      "\n",
      "Setting feature_perturbation = \"tree_path_dependent\" because no background data was given.\n",
      "\n"
     ]
    },
    {
     "name": "stdout",
     "output_type": "stream",
     "text": [
      "CPU times: user 1min 1s, sys: 0 ns, total: 1min 1s\n",
      "Wall time: 1min 1s\n"
     ]
    }
   ],
   "source": [
    "%%time\n",
    "\n",
    "explainer = shap.TreeExplainer(xgb)\n",
    "shap_values = explainer.shap_values(X_test.values)\n",
    "\n",
    "shap_values = shap_values.mean(axis=0)"
   ]
  },
  {
   "cell_type": "markdown",
   "metadata": {},
   "source": [
    "#### Get the QIF scores"
   ]
  },
  {
   "cell_type": "code",
   "execution_count": 25,
   "metadata": {},
   "outputs": [],
   "source": [
    "# Discretize the probabilities\n",
    "df_test[\"preds_proba\"] = (df_test[\"preds_proba\"] * 100).astype(int)"
   ]
  },
  {
   "cell_type": "code",
   "execution_count": 26,
   "metadata": {},
   "outputs": [],
   "source": [
    "bayes_leakage = qif.BayesLeakage(df_test)\n",
    "feature_names = X_test.columns"
   ]
  },
  {
   "cell_type": "code",
   "execution_count": 27,
   "metadata": {},
   "outputs": [
    {
     "name": "stdout",
     "output_type": "stream",
     "text": [
      "CPU times: user 1.57 s, sys: 0 ns, total: 1.57 s\n",
      "Wall time: 1.57 s\n"
     ]
    }
   ],
   "source": [
    "%%time\n",
    "\n",
    "qif_values = []\n",
    "for feature in feature_names:\n",
    "    leakage = bayes_leakage.compute_flows(x=feature, y='preds_proba')\n",
    "    qif_values.append(max(leakage))\n",
    "\n",
    "qif_values = np.array(qif_values)\n",
    "qif_values = qif_values / qif_values.sum() # Normalize"
   ]
  },
  {
   "cell_type": "code",
   "execution_count": 28,
   "metadata": {},
   "outputs": [
    {
     "data": {
      "text/plain": [
       "array([0.03692934, 0.02236247, 0.0187497 , 0.01871781, 0.01798461,\n",
       "       0.01798461, 0.01818034, 0.01798689, 0.01798461, 0.01798461,\n",
       "       0.01799607, 0.01798461, 0.01798461, 0.02189756, 0.02827137,\n",
       "       0.01798461, 0.01798461, 0.01798461, 0.01799382, 0.01798461,\n",
       "       0.01798461, 0.01815234, 0.01798461, 0.01808811, 0.01798461,\n",
       "       0.01798461, 0.01802243, 0.01798461, 0.01798461, 0.01798461,\n",
       "       0.01798461, 0.01812546, 0.02486108, 0.01804444, 0.0181701 ,\n",
       "       0.01798461, 0.01798461, 0.01798461, 0.01798461, 0.01798461,\n",
       "       0.01798461, 0.01798461, 0.01798461, 0.01798921, 0.01798461,\n",
       "       0.01798461, 0.01798461, 0.01798461, 0.01798461, 0.01798461,\n",
       "       0.01798461, 0.01798461, 0.01798461])"
      ]
     },
     "execution_count": 28,
     "metadata": {},
     "output_type": "execute_result"
    }
   ],
   "source": [
    "qif_values"
   ]
  },
  {
   "cell_type": "code",
   "execution_count": 29,
   "metadata": {},
   "outputs": [],
   "source": [
    "feat_coefs_qif = {name: coef for name, coef in zip(feature_names, qif_values)}"
   ]
  },
  {
   "cell_type": "markdown",
   "metadata": {},
   "source": [
    "#### Train a Linear Model"
   ]
  },
  {
   "cell_type": "code",
   "execution_count": 30,
   "metadata": {},
   "outputs": [
    {
     "name": "stderr",
     "output_type": "stream",
     "text": [
      "/home/guilherme-resende/anaconda3/lib/python3.7/site-packages/sklearn/linear_model/_logistic.py:940: ConvergenceWarning:\n",
      "\n",
      "lbfgs failed to converge (status=1):\n",
      "STOP: TOTAL NO. of ITERATIONS REACHED LIMIT.\n",
      "\n",
      "Increase the number of iterations (max_iter) or scale the data as shown in:\n",
      "    https://scikit-learn.org/stable/modules/preprocessing.html\n",
      "Please also refer to the documentation for alternative solver options:\n",
      "    https://scikit-learn.org/stable/modules/linear_model.html#logistic-regression\n",
      "\n"
     ]
    },
    {
     "data": {
      "text/plain": [
       "LogisticRegression(C=1.0, class_weight=None, dual=False, fit_intercept=True,\n",
       "                   intercept_scaling=1, l1_ratio=None, max_iter=100,\n",
       "                   multi_class='auto', n_jobs=None, penalty='l2',\n",
       "                   random_state=None, solver='lbfgs', tol=0.0001, verbose=0,\n",
       "                   warm_start=False)"
      ]
     },
     "execution_count": 30,
     "metadata": {},
     "output_type": "execute_result"
    }
   ],
   "source": [
    "logit = LogisticRegression()\n",
    "logit.fit(X.values, Y)"
   ]
  },
  {
   "cell_type": "code",
   "execution_count": 31,
   "metadata": {},
   "outputs": [
    {
     "name": "stdout",
     "output_type": "stream",
     "text": [
      "Metrics:\n",
      "\tF1-Score -> 0.606633692173407\n",
      "\tAUC -> 0.8833635476500684\n"
     ]
    }
   ],
   "source": [
    "preds = logit.predict(X_test.values)\n",
    "preds_proba = logit.predict_proba(X_test.values)[:, 1:]\n",
    "df_test[\"preds_proba\"] = preds_proba\n",
    "\n",
    "print(\"Metrics:\")\n",
    "print(\"\\tF1-Score ->\", f1_score(Y_test, preds))\n",
    "print(\"\\tAUC ->\", roc_auc_score(Y_test, preds_proba))"
   ]
  },
  {
   "cell_type": "code",
   "execution_count": 32,
   "metadata": {},
   "outputs": [],
   "source": [
    "logit_values = vars(logit)[\"coef_\"].reshape(-1)"
   ]
  },
  {
   "cell_type": "code",
   "execution_count": 33,
   "metadata": {},
   "outputs": [
    {
     "data": {
      "text/plain": [
       "array([ 0.19169862,  0.30093495,  0.9205826 ,  0.22732215, -0.69925597,\n",
       "       -1.00445588, -0.40432819,  0.09857078, -0.51916616, -0.68647661,\n",
       "       -0.18682344, -0.48956841, -0.04599588, -1.39552147,  0.72792232,\n",
       "       -0.8861003 , -0.99450051, -0.99848784,  0.38791607, -0.77872806,\n",
       "       -0.34187975,  0.5250658 , -0.9895294 ,  0.27307143, -1.22687079,\n",
       "        0.00593265, -0.21389746, -0.42488949, -0.22918744, -0.58284284,\n",
       "       -0.73247249, -0.47204545, -0.62438411,  0.75563566, -1.63049564,\n",
       "       -0.71089071, -1.25531954, -0.51383369, -0.61358786, -0.53743601,\n",
       "       -1.14183515, -1.13080708, -0.20863683, -0.12118206, -0.51668824,\n",
       "       -0.64788673, -0.44547996, -0.8641811 , -0.6545316 , -0.09044886,\n",
       "       -0.01629976,  0.14076881, -0.51293346])"
      ]
     },
     "execution_count": 33,
     "metadata": {},
     "output_type": "execute_result"
    }
   ],
   "source": [
    "logit_values"
   ]
  },
  {
   "cell_type": "code",
   "execution_count": 34,
   "metadata": {},
   "outputs": [],
   "source": [
    "feat_coefs_logit = {name: coef for name, coef in zip(feature_names, logit_values)}"
   ]
  },
  {
   "cell_type": "markdown",
   "metadata": {},
   "source": [
    "#### Comparison Between Importances"
   ]
  },
  {
   "cell_type": "code",
   "execution_count": 35,
   "metadata": {},
   "outputs": [],
   "source": [
    "feat_coefs_logit = dict(\n",
    "    sorted(\n",
    "        feat_coefs_logit.items(),\n",
    "        key=lambda item: abs(item[1]),\n",
    "        reverse=True\n",
    "    )\n",
    ")\n",
    "\n",
    "feat_coefs_qif = dict(\n",
    "    sorted(\n",
    "        feat_coefs_qif.items(),\n",
    "        key=lambda item: abs(item[1]),\n",
    "        reverse=True\n",
    "    )\n",
    ")"
   ]
  },
  {
   "cell_type": "code",
   "execution_count": 36,
   "metadata": {},
   "outputs": [
    {
     "name": "stderr",
     "output_type": "stream",
     "text": [
      "/home/guilherme-resende/anaconda3/lib/python3.7/site-packages/sklearn/metrics/_classification.py:664: FutureWarning:\n",
      "\n",
      "jaccard_similarity_score has been deprecated and replaced with jaccard_score. It will be removed in version 0.23. This implementation has surprising behavior for binary and multiclass classification tasks.\n",
      "\n"
     ]
    }
   ],
   "source": [
    "jaccard_at_k = []\n",
    "\n",
    "for k in range(2, len(feat_coefs_logit)):\n",
    "    jaccard_at_k.append(\n",
    "        jaccard_similarity_score(\n",
    "            list(feat_coefs_logit.keys())[:k],\n",
    "            list(feat_coefs_qif.keys())[:k]\n",
    "        )\n",
    "    )\n",
    "\n",
    "jaccard_at_k = np.round(jaccard_at_k, 3)"
   ]
  },
  {
   "cell_type": "code",
   "execution_count": 37,
   "metadata": {},
   "outputs": [
    {
     "data": {
      "image/png": "[encoded data removed]",
      "text/plain": [
       "<Figure size 432x288 with 1 Axes>"
      ]
     },
     "metadata": {},
     "output_type": "display_data"
    }
   ],
   "source": [
    "x = range(2, len(feat_coefs_logit))\n",
    "\n",
    "plt.plot(x, jaccard_at_k, label=\"Real\")\n",
    "plt.plot(x, np.array(x)/len(feat_coefs_logit), linestyle=\"--\", label=\"Ideal\")\n",
    "plt.title(\"Jaccard Score @ K\")\n",
    "plt.xlabel(\"K\")\n",
    "plt.ylabel(\"Jaccard Score\")\n",
    "plt.legend()\n",
    "plt.show()"
   ]
  },
  {
   "cell_type": "code",
   "execution_count": 38,
   "metadata": {},
   "outputs": [
    {
     "data": {
      "image/png": "[encoded data removed]",
      "text/plain": [
       "<Figure size 432x288 with 1 Axes>"
      ]
     },
     "metadata": {},
     "output_type": "display_data"
    }
   ],
   "source": [
    "intersection_at_k = []\n",
    "\n",
    "for k in range(2, len(feat_coefs_logit)):\n",
    "    intersection_at_k.append(\n",
    "        len(\n",
    "            set(\n",
    "                list(feat_coefs_logit.keys())[:k]\n",
    "            ).intersection(list(feat_coefs_qif.keys())[:k])\n",
    "        )\n",
    "    )\n",
    "\n",
    "plt.plot(range(2, len(feat_coefs_logit)), intersection_at_k, label=\"Real\")\n",
    "plt.plot(range(2, len(feat_coefs_logit)), range(2, len(feat_coefs_logit)), linestyle=\"--\", label=\"Ideal\")\n",
    "plt.title(\"Intersection @ K\")\n",
    "plt.xlabel(\"K\")\n",
    "plt.ylabel(\"Intersection Length\")\n",
    "plt.legend()\n",
    "plt.show()"
   ]
  },
  {
   "cell_type": "code",
   "execution_count": null,
   "metadata": {},
   "outputs": [],
   "source": []
  },
  {
   "cell_type": "code",
   "execution_count": 41,
   "metadata": {},
   "outputs": [],
   "source": [
    "k_coef, _ = kendalltau(qif_values, logit_values)\n",
    "p_coef, _ = pearsonr(qif_values, logit_values)"
   ]
  },
  {
   "cell_type": "code",
   "execution_count": 42,
   "metadata": {},
   "outputs": [
    {
     "name": "stdout",
     "output_type": "stream",
     "text": [
      "Kendall: 0.3667916883857495\n",
      "Pearson: 0.24771513959323493\n"
     ]
    }
   ],
   "source": [
    "print(\"Kendall:\", k_coef)\n",
    "print(\"Pearson:\", p_coef)"
   ]
  },
  {
   "cell_type": "code",
   "execution_count": null,
   "metadata": {},
   "outputs": [],
   "source": []
  }
 ],
 "metadata": {
  "kernelspec": {
   "display_name": "Python 3",
   "language": "python",
   "name": "python3"
  },
  "language_info": {
   "codemirror_mode": {
    "name": "ipython",
    "version": 3
   },
   "file_extension": ".py",
   "mimetype": "text/x-python",
   "name": "python",
   "nbconvert_exporter": "python",
   "pygments_lexer": "ipython3",
   "version": "3.7.6"
  }
 },
 "nbformat": 4,
 "nbformat_minor": 4
}
