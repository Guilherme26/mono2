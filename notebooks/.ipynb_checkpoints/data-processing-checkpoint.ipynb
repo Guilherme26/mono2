{
 "cells": [
  {
   "cell_type": "code",
   "execution_count": null,
   "metadata": {},
   "outputs": [],
   "source": [
    "import pandas as pd\n",
    "import matplotlib.pyplot as plt\n",
    "import seaborn as sns"
   ]
  },
  {
   "cell_type": "code",
   "execution_count": null,
   "metadata": {},
   "outputs": [],
   "source": [
    "sns.set(font_scale=1.5)"
   ]
  },
  {
   "cell_type": "code",
   "execution_count": null,
   "metadata": {},
   "outputs": [],
   "source": [
    "col_names = [\n",
    "    \"age\",\n",
    "    \"workclass\",\n",
    "    \"fnlwgt\",\n",
    "    \"education\",\n",
    "    \"education-num\",\n",
    "    \"marital-status\",\n",
    "    \"occupation\",\n",
    "    \"relationship\",\n",
    "    \"race\",\n",
    "    \"sex\",\n",
    "    \"capital-gain\",\n",
    "    \"capital-loss\",\n",
    "    \"hours-per-week\",\n",
    "    \"native-country\",\n",
    "    \"target\"\n",
    "]\n",
    "\n",
    "NORTH_AMERICA = [\"united-states\", \"mexico\", \"canada\"]\n",
    "CENTRAL_AMERICA = [\n",
    "    \"honduras\",\n",
    "    \"haiti\",\n",
    "    \"guatemala\",\n",
    "    \"nicaragua\",\n",
    "    \"jamaica\",\n",
    "    \"cuba\",\n",
    "    \"el-salvador\",\n",
    "    \"puerto-rico\",\n",
    "    \"dominican-republic\"\n",
    "]\n",
    "SOUTH_AMERICA = [\"trinadad&tobago\", \"ecuador\", \"peru\", \"columbia\"]\n",
    "\n",
    "EUROPE = [\n",
    "    \"holand-netherlands\",\n",
    "    \"hungary\",\n",
    "    \"scotland\",\n",
    "    \"yugoslavia\",\n",
    "    \"ireland\",\n",
    "    \"france\",\n",
    "    \"greece\",\n",
    "    \"portugal\",\n",
    "    \"poland\",\n",
    "    \"italy\",\n",
    "    \"england\",\n",
    "    \"germany\"\n",
    "]\n",
    "\n",
    "ASIA = [\n",
    "    \"laos\",\n",
    "    \"cambodia\",\n",
    "    \"hong\",\n",
    "    \"thailand\",\n",
    "    \"taiwan\",\n",
    "    \"japan\",\n",
    "    \"china\",\n",
    "    \"india\",\n",
    "    \"philippines\",\n",
    "    \"iran\",\n",
    "    \"vietnam\"\n",
    "]"
   ]
  },
  {
   "cell_type": "code",
   "execution_count": null,
   "metadata": {
    "scrolled": true
   },
   "outputs": [],
   "source": [
    "df_train = pd.read_csv(\"../data/adult.data\", names=col_names)\n",
    "df_train[\"set\"] = \"train\"\n",
    "\n",
    "df_test = pd.read_csv(\"../data/adult.test\", names=col_names)\n",
    "df_test[\"set\"] = \"test\"\n",
    "\n",
    "df = pd.concat([df_train, df_test]).reset_index(drop=True)\n",
    "\n",
    "del df_train, df_test"
   ]
  },
  {
   "cell_type": "code",
   "execution_count": null,
   "metadata": {},
   "outputs": [],
   "source": [
    "# When considering age ranges until 80 years, we group all upper outliers in the same category\n",
    "def age_to_categorical(age):\n",
    "    if age < 12:\n",
    "        return 0\n",
    "    elif age < 17:\n",
    "        return 1\n",
    "    elif age < 24:\n",
    "        return 2\n",
    "    elif age < 34:\n",
    "        return 3\n",
    "    elif age < 44:\n",
    "        return 4\n",
    "    elif age < 54:\n",
    "        return 5\n",
    "    elif age < 64:\n",
    "        return 6\n",
    "    elif age < 80:\n",
    "        return 7\n",
    "    return 8\n",
    "\n",
    "\n",
    "def sex_to_categorical(sex):\n",
    "    if sex == \"male\":\n",
    "        return 1\n",
    "    return 0\n",
    "\n",
    "\n",
    "def hours_per_week_to_categorical(hours):\n",
    "    if hours < 20:\n",
    "        return 0\n",
    "    elif hours <= 30:\n",
    "        return 1\n",
    "    elif hours <= 40:\n",
    "        return 2\n",
    "    elif hours <= 50:\n",
    "        return 3\n",
    "    elif hours <= 60:\n",
    "        return 4\n",
    "    return 5\n",
    "\n",
    "\n",
    "def country_to_categorical(country):\n",
    "    global NORTH_AMERICA, CENTRAL_AMERICA, SOUTH_AMERICA, EUROPE, ASIA\n",
    "    \n",
    "    if country in NORTH_AMERICA:\n",
    "        return \"north-america\"\n",
    "    elif country in CENTRAL_AMERICA:\n",
    "        return \"central-america\"\n",
    "    elif country in SOUTH_AMERICA:\n",
    "        return \"south-america\"\n",
    "    elif country in EUROPE:\n",
    "        return \"europe\"\n",
    "    elif country in ASIA:\n",
    "        return \"asia\"\n",
    "    return \"unknown\""
   ]
  },
  {
   "cell_type": "markdown",
   "metadata": {},
   "source": [
    "The dataset presents no null values"
   ]
  },
  {
   "cell_type": "code",
   "execution_count": null,
   "metadata": {},
   "outputs": [],
   "source": [
    "df.isna().sum().to_frame(name=\"Number of Null Values\")"
   ]
  },
  {
   "cell_type": "code",
   "execution_count": null,
   "metadata": {},
   "outputs": [],
   "source": [
    "df = df.drop(\"education\", axis=1)\n",
    "df = df.rename(columns={\"education-num\":\"education_level\"})"
   ]
  },
  {
   "cell_type": "markdown",
   "metadata": {},
   "source": [
    "As we can see below, the vast majority of the individuals are less than 80 years old. Hence, we'll group any person older than that in the same category."
   ]
  },
  {
   "cell_type": "code",
   "execution_count": null,
   "metadata": {},
   "outputs": [],
   "source": [
    "plt.boxplot(df.age.values)\n",
    "\n",
    "plt.title(\"Age Distribution - Removing Outliers\")\n",
    "plt.xticks([1], [\"Ages\"])\n",
    "plt.show()"
   ]
  },
  {
   "cell_type": "code",
   "execution_count": null,
   "metadata": {},
   "outputs": [],
   "source": [
    "df[\"age\"] = df.age.map(age_to_categorical)"
   ]
  },
  {
   "cell_type": "markdown",
   "metadata": {},
   "source": [
    "As we can see, a great percentage of the data (>80%) regards white people. Hence, we can already expect the machine learning models to be developed to perform poorly on the remaining races due to underrepresentation."
   ]
  },
  {
   "cell_type": "code",
   "execution_count": null,
   "metadata": {},
   "outputs": [],
   "source": [
    "race = df.race.value_counts(normalize=True).sort_values()\n",
    "plt.barh(race.index, race.values)\n",
    "\n",
    "plt.title(\"Race Distribution\")\n",
    "plt.xlabel(\"Percentage\")\n",
    "plt.ylabel(\"Race\")\n",
    "plt.show()"
   ]
  },
  {
   "cell_type": "markdown",
   "metadata": {},
   "source": [
    "Transform race into categorical 1-hot representation"
   ]
  },
  {
   "cell_type": "code",
   "execution_count": null,
   "metadata": {},
   "outputs": [],
   "source": [
    "df[\"race\"] = df.race.str.lower()\n",
    "df[\"race\"] = df.race.str.strip()\n",
    "\n",
    "for race in df.race.unique():\n",
    "    col_name = f\"race-{race}\"\n",
    "\n",
    "    idx = df[df.race == race].index\n",
    "    df[col_name] = 0\n",
    "    \n",
    "    df.loc[idx, col_name] = 1\n",
    "\n",
    "df = df.drop(\"race\", axis=1)"
   ]
  },
  {
   "cell_type": "markdown",
   "metadata": {},
   "source": [
    "The percentage of males is twice as big as that of females. We can also expected some kind of umbalancing when predicting for that class"
   ]
  },
  {
   "cell_type": "code",
   "execution_count": null,
   "metadata": {},
   "outputs": [],
   "source": [
    "sex = df.sex.value_counts()\n",
    "plt.pie(sex.values, labels=sex.index, autopct=\"%.2f\")\n",
    "\n",
    "plt.title(\"Sex Distribution\")\n",
    "plt.show()"
   ]
  },
  {
   "cell_type": "code",
   "execution_count": null,
   "metadata": {},
   "outputs": [],
   "source": [
    "df[\"sex\"] = df.sex.map(sex_to_categorical)"
   ]
  },
  {
   "cell_type": "markdown",
   "metadata": {},
   "source": [
    "Transform marital status into categorical 1-hot representation"
   ]
  },
  {
   "cell_type": "code",
   "execution_count": null,
   "metadata": {},
   "outputs": [],
   "source": [
    "df[\"marital-status\"] = df[\"marital-status\"].str.lower()\n",
    "df[\"marital-status\"] = df[\"marital-status\"].str.strip()\n",
    "\n",
    "for status in df[\"marital-status\"].unique():\n",
    "    idx = df[df[\"marital-status\"] == status].index\n",
    "    df[status] = 0\n",
    "    \n",
    "    df.loc[idx, status] = 1\n",
    "\n",
    "df = df.drop(\"marital-status\", axis=1)"
   ]
  },
  {
   "cell_type": "markdown",
   "metadata": {},
   "source": [
    "Disregarding outliers, we see that the bulk of the data lies between [30, 60], with about 50% of the data under 40 work hours a week"
   ]
  },
  {
   "cell_type": "code",
   "execution_count": null,
   "metadata": {},
   "outputs": [],
   "source": [
    "hours = df[\"hours-per-week\"]\n",
    "\n",
    "plt.boxplot(hours)\n",
    "plt.title(\"Work Hours per Week Distribution\")\n",
    "plt.xticks([1], [\"Work Hours per Week\"])\n",
    "plt.show()"
   ]
  },
  {
   "cell_type": "code",
   "execution_count": null,
   "metadata": {},
   "outputs": [],
   "source": [
    "df[\"hours-per-week\"] = df[\"hours-per-week\"].map(hours_per_week_to_categorical)\n",
    "df = df.rename(columns={\"hours-per-week\": \"work-hours-per-week\"})"
   ]
  },
  {
   "cell_type": "code",
   "execution_count": null,
   "metadata": {},
   "outputs": [],
   "source": [
    "df[\"occupation\"] = df.occupation.str.strip()\n",
    "df[\"occupation\"] = df.occupation.str.lower()\n",
    "\n",
    "df[\"occupation\"] = df.occupation.apply(\n",
    "    lambda occupation: \"unknown\" if occupation == \"?\" else occupation\n",
    ")"
   ]
  },
  {
   "cell_type": "code",
   "execution_count": null,
   "metadata": {},
   "outputs": [],
   "source": [
    "occupation = df.occupation.value_counts(normalize=True).sort_values()\n",
    "\n",
    "plt.barh(occupation.index, occupation.values)\n",
    "plt.title(\"Occupation Distribution\")\n",
    "plt.show()"
   ]
  },
  {
   "cell_type": "code",
   "execution_count": null,
   "metadata": {},
   "outputs": [],
   "source": [
    "for occupation in df.occupation.unique():\n",
    "    col_name = f\"occupation-{occupation}\"\n",
    "    \n",
    "    idx = df[df.occupation == occupation].index\n",
    "    df[col_name] = 0\n",
    "    \n",
    "    df.loc[idx, col_name] = 1\n",
    "\n",
    "df = df.drop(\"occupation\", axis=1)"
   ]
  },
  {
   "cell_type": "markdown",
   "metadata": {},
   "source": [
    "Converts capital gain and loss to a positive flag in their respetive columns"
   ]
  },
  {
   "cell_type": "code",
   "execution_count": null,
   "metadata": {},
   "outputs": [],
   "source": [
    "df[\"capital-gain\"] = df[\"capital-gain\"].apply(\n",
    "    lambda value: 1 if value > 0 else 0\n",
    ")\n",
    "\n",
    "df[\"capital-loss\"] = df[\"capital-loss\"].apply(\n",
    "    lambda value: 1 if value > 0 else 0\n",
    ")"
   ]
  },
  {
   "cell_type": "code",
   "execution_count": null,
   "metadata": {},
   "outputs": [],
   "source": [
    "df[\"native-country\"] = df[\"native-country\"].str.strip()\n",
    "df[\"native-country\"] = df[\"native-country\"].str.lower()\n",
    "\n",
    "df[\"native-country\"] = df[\"native-country\"].map(country_to_categorical)"
   ]
  },
  {
   "cell_type": "markdown",
   "metadata": {},
   "source": [
    "As we can see below, more than 90% of the data regards people from North America"
   ]
  },
  {
   "cell_type": "code",
   "execution_count": null,
   "metadata": {},
   "outputs": [],
   "source": [
    "df[\"native-country\"].value_counts(normalize=True).to_frame(name=\"Percentage\")"
   ]
  },
  {
   "cell_type": "markdown",
   "metadata": {},
   "source": [
    "Transform native country into categorical 1-hot representation"
   ]
  },
  {
   "cell_type": "code",
   "execution_count": null,
   "metadata": {},
   "outputs": [],
   "source": [
    "for nationality in df[\"native-country\"].unique():\n",
    "    col_name = f\"from-{nationality}\"\n",
    "    \n",
    "    idx = df[df[\"native-country\"] == nationality].index\n",
    "    df[col_name] = 0\n",
    "    \n",
    "    df.loc[idx, col_name] = 1\n",
    "\n",
    "df = df.drop(\"native-country\", axis=1)"
   ]
  },
  {
   "cell_type": "code",
   "execution_count": null,
   "metadata": {},
   "outputs": [],
   "source": [
    "df[\"workclass\"] = df.workclass.str.strip()\n",
    "df[\"workclass\"] = df.workclass.str.lower()\n",
    "\n",
    "df[\"workclass\"] = df.workclass.apply(\n",
    "    lambda workclass: \"unknown\" if workclass == \"?\" else workclass\n",
    ")"
   ]
  },
  {
   "cell_type": "code",
   "execution_count": null,
   "metadata": {},
   "outputs": [],
   "source": [
    "df.workclass.value_counts(normalize=True).to_frame(\"Percentage\")"
   ]
  },
  {
   "cell_type": "code",
   "execution_count": null,
   "metadata": {},
   "outputs": [],
   "source": [
    "for workclass in df.workclass.unique():\n",
    "    col_name = f\"workclass-{workclass}\"\n",
    "    \n",
    "    idx = df[df.workclass == workclass].index\n",
    "    df[col_name] = 0\n",
    "    \n",
    "    df.loc[idx, col_name] = 1\n",
    "\n",
    "df = df.drop(\"workclass\", axis=1)"
   ]
  },
  {
   "cell_type": "code",
   "execution_count": null,
   "metadata": {},
   "outputs": [],
   "source": []
  },
  {
   "cell_type": "code",
   "execution_count": null,
   "metadata": {},
   "outputs": [],
   "source": [
    "df[\"relationship\"] = df.relationship.str.strip()\n",
    "df[\"relationship\"] = df.relationship.str.lower()"
   ]
  },
  {
   "cell_type": "code",
   "execution_count": null,
   "metadata": {},
   "outputs": [],
   "source": [
    "df.relationship.value_counts(normalize=True).to_frame(\"Percentage\")"
   ]
  },
  {
   "cell_type": "code",
   "execution_count": null,
   "metadata": {},
   "outputs": [],
   "source": [
    "for relationship in df.relationship.unique():\n",
    "    col_name = f\"relationship-{relationship}\"\n",
    "    \n",
    "    idx = df[df.relationship == relationship].index\n",
    "    df[col_name] = 0\n",
    "    \n",
    "    df.loc[idx, col_name] = 1\n",
    "\n",
    "df = df.drop(\"relationship\", axis=1)"
   ]
  },
  {
   "cell_type": "markdown",
   "metadata": {},
   "source": [
    "The target consists in whether a person makes more than US$ 50K a year or not"
   ]
  },
  {
   "cell_type": "code",
   "execution_count": null,
   "metadata": {},
   "outputs": [],
   "source": [
    "df[\"target\"] = df.target.str.replace(\".\", \"\")\n",
    "df[\"target\"] = df.target.str.strip()\n",
    "\n",
    "df[\"target\"] = df.target.apply(\n",
    "    lambda value: 1 if value == \">50K\" else 0\n",
    ")"
   ]
  },
  {
   "cell_type": "code",
   "execution_count": null,
   "metadata": {},
   "outputs": [],
   "source": [
    "targets = df.target.value_counts(normalize=True)\n",
    "\n",
    "labels = [\"More than 50K\" if value else \"Less than 50K\" for value in targets.index]\n",
    "\n",
    "plt.pie(targets.values, labels=labels, autopct=\"%.2f\")\n",
    "plt.title(\"Targets Distribution\")\n",
    "plt.show()"
   ]
  },
  {
   "cell_type": "code",
   "execution_count": null,
   "metadata": {},
   "outputs": [],
   "source": [
    "df"
   ]
  },
  {
   "cell_type": "code",
   "execution_count": null,
   "metadata": {},
   "outputs": [],
   "source": [
    "df.to_csv(\"../data/adult_whole_data.csv\", index=False)"
   ]
  },
  {
   "cell_type": "code",
   "execution_count": null,
   "metadata": {},
   "outputs": [],
   "source": []
  }
 ],
 "metadata": {
  "kernelspec": {
   "display_name": "Python 3",
   "language": "python",
   "name": "python3"
  },
  "language_info": {
   "codemirror_mode": {
    "name": "ipython",
    "version": 3
   },
   "file_extension": ".py",
   "mimetype": "text/x-python",
   "name": "python",
   "nbconvert_exporter": "python",
   "pygments_lexer": "ipython3",
   "version": "3.7.6"
  }
 },
 "nbformat": 4,
 "nbformat_minor": 4
}
