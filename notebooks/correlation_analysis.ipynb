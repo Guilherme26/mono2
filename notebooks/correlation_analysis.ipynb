{
 "cells": [
  {
   "cell_type": "code",
   "execution_count": null,
   "metadata": {},
   "outputs": [],
   "source": [
    "import pandas as pd\n",
    "\n",
    "from scipy.stats import kendalltau, pearsonr"
   ]
  },
  {
   "cell_type": "code",
   "execution_count": null,
   "metadata": {},
   "outputs": [],
   "source": [
    "df_adult = pd.read_csv(\"../data/results/adult_coeficients.csv\")\n",
    "df_bank = pd.read_csv(\"../data/results/bank_marketing_coeficients.csv\")\n",
    "df_cancer = pd.read_csv(\"../data/results/breast_cancer_coeficients.csv\")\n",
    "df_heart = pd.read_csv(\"../data/results/heart_disease_coeficients.csv\")\n",
    "df_wine = pd.read_csv(\"../data/results/wine_quality_coeficients.csv\")\n",
    "df_mnist = pd.read_csv(\"../data/results/mnist_coeficients.csv\")"
   ]
  },
  {
   "cell_type": "markdown",
   "metadata": {},
   "source": [
    "#### Adult Dataset Correlation"
   ]
  },
  {
   "cell_type": "code",
   "execution_count": null,
   "metadata": {},
   "outputs": [],
   "source": [
    "shap = df_adult[df_adult.method == \"SHAP\"].drop(\"method\", axis=1)\n",
    "qif = df_adult[df_adult.method == \"QIF\"].drop(\"method\", axis=1)\n",
    "\n",
    "shap = shap.values.reshape(-1)\n",
    "qif = qif.values.reshape(-1)"
   ]
  },
  {
   "cell_type": "code",
   "execution_count": null,
   "metadata": {},
   "outputs": [],
   "source": [
    "k_coef, _ = kendalltau(shap, qif)\n",
    "p_coef, _ = pearsonr(shap, qif)"
   ]
  },
  {
   "cell_type": "code",
   "execution_count": null,
   "metadata": {},
   "outputs": [],
   "source": [
    "print(\"Kendall:\", k_coef)\n",
    "print(\"Pearson:\", p_coef)"
   ]
  },
  {
   "cell_type": "markdown",
   "metadata": {},
   "source": [
    "#### Bank Marketing Correlation"
   ]
  },
  {
   "cell_type": "code",
   "execution_count": null,
   "metadata": {},
   "outputs": [],
   "source": [
    "shap = df_bank[df_bank.method == \"SHAP\"].drop(\"method\", axis=1)\n",
    "qif = df_bank[df_bank.method == \"QIF\"].drop(\"method\", axis=1)\n",
    "\n",
    "shap = shap.values.reshape(-1)\n",
    "qif = qif.values.reshape(-1)"
   ]
  },
  {
   "cell_type": "code",
   "execution_count": null,
   "metadata": {},
   "outputs": [],
   "source": [
    "k_coef, _ = kendalltau(shap, qif)\n",
    "p_coef, _ = pearsonr(shap, qif)"
   ]
  },
  {
   "cell_type": "code",
   "execution_count": null,
   "metadata": {},
   "outputs": [],
   "source": [
    "print(\"Kendall:\", k_coef)\n",
    "print(\"Pearson:\", p_coef)"
   ]
  },
  {
   "cell_type": "markdown",
   "metadata": {},
   "source": [
    "#### Breast Cancer Correlation"
   ]
  },
  {
   "cell_type": "code",
   "execution_count": null,
   "metadata": {},
   "outputs": [],
   "source": [
    "shap = df_cancer[df_cancer.method == \"SHAP\"].drop(\"method\", axis=1)\n",
    "qif = df_cancer[df_cancer.method == \"QIF\"].drop(\"method\", axis=1)\n",
    "\n",
    "shap = shap.values.reshape(-1)\n",
    "qif = qif.values.reshape(-1)"
   ]
  },
  {
   "cell_type": "code",
   "execution_count": null,
   "metadata": {},
   "outputs": [],
   "source": [
    "k_coef, _ = kendalltau(shap, qif)\n",
    "p_coef, _ = pearsonr(shap, qif)"
   ]
  },
  {
   "cell_type": "code",
   "execution_count": null,
   "metadata": {},
   "outputs": [],
   "source": [
    "print(\"Kendall:\", k_coef)\n",
    "print(\"Pearson:\", p_coef)"
   ]
  },
  {
   "cell_type": "markdown",
   "metadata": {},
   "source": [
    "#### Heart Disease Correlation"
   ]
  },
  {
   "cell_type": "code",
   "execution_count": null,
   "metadata": {},
   "outputs": [],
   "source": [
    "shap = df_heart[df_heart.method == \"SHAP\"].drop(\"method\", axis=1)\n",
    "qif = df_heart[df_heart.method == \"QIF\"].drop(\"method\", axis=1)\n",
    "\n",
    "shap = shap.values.reshape(-1)\n",
    "qif = qif.values.reshape(-1)"
   ]
  },
  {
   "cell_type": "code",
   "execution_count": null,
   "metadata": {},
   "outputs": [],
   "source": [
    "k_coef, _ = kendalltau(shap, qif)\n",
    "p_coef, _ = pearsonr(shap, qif)"
   ]
  },
  {
   "cell_type": "code",
   "execution_count": null,
   "metadata": {},
   "outputs": [],
   "source": [
    "print(\"Kendall:\", k_coef)\n",
    "print(\"Pearson:\", p_coef)"
   ]
  },
  {
   "cell_type": "markdown",
   "metadata": {},
   "source": [
    "#### Wine Quality Correlation"
   ]
  },
  {
   "cell_type": "code",
   "execution_count": null,
   "metadata": {},
   "outputs": [],
   "source": [
    "shap = df_wine[df_wine.method == \"SHAP\"].drop(\"method\", axis=1)\n",
    "qif = df_wine[df_wine.method == \"QIF\"].drop(\"method\", axis=1)\n",
    "\n",
    "shap = shap.values.reshape(-1)\n",
    "qif = qif.values.reshape(-1)"
   ]
  },
  {
   "cell_type": "code",
   "execution_count": null,
   "metadata": {},
   "outputs": [],
   "source": [
    "k_coef, _ = kendalltau(shap, qif)\n",
    "p_coef, _ = pearsonr(shap, qif)"
   ]
  },
  {
   "cell_type": "code",
   "execution_count": null,
   "metadata": {},
   "outputs": [],
   "source": [
    "print(\"Kendall:\", k_coef)\n",
    "print(\"Pearson:\", p_coef)"
   ]
  },
  {
   "cell_type": "markdown",
   "metadata": {},
   "source": [
    "#### MNIST Correlation"
   ]
  },
  {
   "cell_type": "code",
   "execution_count": null,
   "metadata": {},
   "outputs": [],
   "source": [
    "df_shap = df_mnist[df_mnist.method == \"SHAP\"].drop(\"method\", axis=1)\n",
    "df_qif = df_mnist[df_mnist.method == \"QIF\"].drop(\"method\", axis=1)\n",
    "\n",
    "k_coef_sum = 0\n",
    "p_coef_sum = 0\n",
    "for digit in df_mnist.digit.unique():\n",
    "    shap = df_shap[df_shap.digit == digit].drop(\"digit\", axis=1).values.reshape(-1)\n",
    "    qif = df_qif[df_qif.digit == digit].drop(\"digit\", axis=1).values.reshape(-1)\n",
    "    \n",
    "    k_coef, _ = kendalltau(shap, qif)\n",
    "    p_coef, _ = pearsonr(shap, qif)\n",
    "    \n",
    "    k_coef_sum += k_coef\n",
    "    p_coef_sum += p_coef\n",
    "\n",
    "k_coef_sum = k_coef_sum / df_shap.digit.nunique()\n",
    "p_coef_sum = p_coef_sum / df_shap.digit.nunique()"
   ]
  },
  {
   "cell_type": "code",
   "execution_count": null,
   "metadata": {},
   "outputs": [],
   "source": [
    "print(\"Kendall:\", k_coef_sum)\n",
    "print(\"Pearson:\", p_coef_sum)"
   ]
  },
  {
   "cell_type": "code",
   "execution_count": null,
   "metadata": {},
   "outputs": [],
   "source": []
  }
 ],
 "metadata": {
  "kernelspec": {
   "display_name": "Python 3",
   "language": "python",
   "name": "python3"
  },
  "language_info": {
   "codemirror_mode": {
    "name": "ipython",
    "version": 3
   },
   "file_extension": ".py",
   "mimetype": "text/x-python",
   "name": "python",
   "nbconvert_exporter": "python",
   "pygments_lexer": "ipython3",
   "version": "3.7.6"
  }
 },
 "nbformat": 4,
 "nbformat_minor": 4
}
