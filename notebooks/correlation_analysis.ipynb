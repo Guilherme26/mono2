{
 "cells": [
  {
   "cell_type": "code",
   "execution_count": 1,
   "metadata": {},
   "outputs": [],
   "source": [
    "import pandas as pd\n",
    "\n",
    "from scipy.stats import kendalltau, pearsonr"
   ]
  },
  {
   "cell_type": "code",
   "execution_count": 2,
   "metadata": {},
   "outputs": [],
   "source": [
    "df_adult = pd.read_csv(\"../data/results/adult_coeficients.csv\")\n",
    "df_bank = pd.read_csv(\"../data/results/bank_marketing_coeficients.csv\")\n",
    "df_cancer = pd.read_csv(\"../data/results/breast_cancer_coeficients.csv\")\n",
    "df_heart = pd.read_csv(\"../data/results/heart_disease_coeficients.csv\")\n",
    "df_wine = pd.read_csv(\"../data/results/wine_quality_coeficients.csv\")"
   ]
  },
  {
   "cell_type": "markdown",
   "metadata": {},
   "source": [
    "#### Adult Dataset Correlation"
   ]
  },
  {
   "cell_type": "code",
   "execution_count": 3,
   "metadata": {},
   "outputs": [],
   "source": [
    "shap = df_adult[df_adult.method == \"SHAP\"].drop(\"method\", axis=1)\n",
    "qif = df_adult[df_adult.method == \"QIF\"].drop(\"method\", axis=1)\n",
    "\n",
    "shap = shap.values.reshape(-1)\n",
    "qif = qif.values.reshape(-1)"
   ]
  },
  {
   "cell_type": "code",
   "execution_count": 4,
   "metadata": {},
   "outputs": [],
   "source": [
    "k_coef, _ = kendalltau(shap, qif)\n",
    "p_coef, _ = pearsonr(shap, qif)"
   ]
  },
  {
   "cell_type": "code",
   "execution_count": 5,
   "metadata": {},
   "outputs": [
    {
     "name": "stdout",
     "output_type": "stream",
     "text": [
      "Kendall: -0.40580764923749674\n",
      "Pearson: -0.7920892149505603\n"
     ]
    }
   ],
   "source": [
    "print(\"Kendall:\", k_coef)\n",
    "print(\"Pearson:\", p_coef)"
   ]
  },
  {
   "cell_type": "markdown",
   "metadata": {},
   "source": [
    "#### Bank Marketing Correlation"
   ]
  },
  {
   "cell_type": "code",
   "execution_count": 6,
   "metadata": {},
   "outputs": [],
   "source": [
    "shap = df_bank[df_bank.method == \"SHAP\"].drop(\"method\", axis=1)\n",
    "qif = df_bank[df_bank.method == \"QIF\"].drop(\"method\", axis=1)\n",
    "\n",
    "shap = shap.values.reshape(-1)\n",
    "qif = qif.values.reshape(-1)"
   ]
  },
  {
   "cell_type": "code",
   "execution_count": 7,
   "metadata": {},
   "outputs": [],
   "source": [
    "k_coef, _ = kendalltau(shap, qif)\n",
    "p_coef, _ = pearsonr(shap, qif)"
   ]
  },
  {
   "cell_type": "code",
   "execution_count": 8,
   "metadata": {},
   "outputs": [
    {
     "name": "stdout",
     "output_type": "stream",
     "text": [
      "Kendall: -0.21379310344827587\n",
      "Pearson: 0.02475912694003679\n"
     ]
    }
   ],
   "source": [
    "print(\"Kendall:\", k_coef)\n",
    "print(\"Pearson:\", p_coef)"
   ]
  },
  {
   "cell_type": "markdown",
   "metadata": {},
   "source": [
    "#### Breast Cancer Correlation"
   ]
  },
  {
   "cell_type": "code",
   "execution_count": 9,
   "metadata": {},
   "outputs": [],
   "source": [
    "shap = df_cancer[df_cancer.method == \"SHAP\"].drop(\"method\", axis=1)\n",
    "qif = df_cancer[df_cancer.method == \"QIF\"].drop(\"method\", axis=1)\n",
    "\n",
    "shap = shap.values.reshape(-1)\n",
    "qif = qif.values.reshape(-1)"
   ]
  },
  {
   "cell_type": "code",
   "execution_count": 10,
   "metadata": {},
   "outputs": [],
   "source": [
    "k_coef, _ = kendalltau(shap, qif)\n",
    "p_coef, _ = pearsonr(shap, qif)"
   ]
  },
  {
   "cell_type": "code",
   "execution_count": 11,
   "metadata": {},
   "outputs": [
    {
     "name": "stdout",
     "output_type": "stream",
     "text": [
      "Kendall: -0.2222222222222222\n",
      "Pearson: 0.1379538070085865\n"
     ]
    }
   ],
   "source": [
    "print(\"Kendall:\", k_coef)\n",
    "print(\"Pearson:\", p_coef)"
   ]
  },
  {
   "cell_type": "markdown",
   "metadata": {},
   "source": [
    "#### Heart Disease Correlation"
   ]
  },
  {
   "cell_type": "code",
   "execution_count": 12,
   "metadata": {},
   "outputs": [],
   "source": [
    "shap = df_heart[df_heart.method == \"SHAP\"].drop(\"method\", axis=1)\n",
    "qif = df_heart[df_heart.method == \"QIF\"].drop(\"method\", axis=1)\n",
    "\n",
    "shap = shap.values.reshape(-1)\n",
    "qif = qif.values.reshape(-1)"
   ]
  },
  {
   "cell_type": "code",
   "execution_count": 13,
   "metadata": {},
   "outputs": [],
   "source": [
    "k_coef, _ = kendalltau(shap, qif)\n",
    "p_coef, _ = pearsonr(shap, qif)"
   ]
  },
  {
   "cell_type": "code",
   "execution_count": 14,
   "metadata": {},
   "outputs": [
    {
     "name": "stdout",
     "output_type": "stream",
     "text": [
      "Kendall: 0.10059347702036955\n",
      "Pearson: 0.10816642414814209\n"
     ]
    }
   ],
   "source": [
    "print(\"Kendall:\", k_coef)\n",
    "print(\"Pearson:\", p_coef)"
   ]
  },
  {
   "cell_type": "markdown",
   "metadata": {},
   "source": [
    "#### Wine Quality Correlation"
   ]
  },
  {
   "cell_type": "code",
   "execution_count": 15,
   "metadata": {},
   "outputs": [],
   "source": [
    "shap = df_wine[df_wine.method == \"SHAP\"].drop(\"method\", axis=1)\n",
    "qif = df_wine[df_wine.method == \"QIF\"].drop(\"method\", axis=1)\n",
    "\n",
    "shap = shap.values.reshape(-1)\n",
    "qif = qif.values.reshape(-1)"
   ]
  },
  {
   "cell_type": "code",
   "execution_count": 16,
   "metadata": {},
   "outputs": [],
   "source": [
    "k_coef, _ = kendalltau(shap, qif)\n",
    "p_coef, _ = pearsonr(shap, qif)"
   ]
  },
  {
   "cell_type": "code",
   "execution_count": 17,
   "metadata": {},
   "outputs": [
    {
     "name": "stdout",
     "output_type": "stream",
     "text": [
      "Kendall: 0.38181818181818183\n",
      "Pearson: 0.7112707168257337\n"
     ]
    }
   ],
   "source": [
    "print(\"Kendall:\", k_coef)\n",
    "print(\"Pearson:\", p_coef)"
   ]
  }
 ],
 "metadata": {
  "kernelspec": {
   "display_name": "Python 3",
   "language": "python",
   "name": "python3"
  },
  "language_info": {
   "codemirror_mode": {
    "name": "ipython",
    "version": 3
   },
   "file_extension": ".py",
   "mimetype": "text/x-python",
   "name": "python",
   "nbconvert_exporter": "python",
   "pygments_lexer": "ipython3",
   "version": "3.7.6"
  }
 },
 "nbformat": 4,
 "nbformat_minor": 4
}
