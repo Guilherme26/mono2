{
 "cells": [
  {
   "cell_type": "code",
   "execution_count": null,
   "metadata": {},
   "outputs": [],
   "source": [
    "import pandas as pd\n",
    "import matplotlib.pyplot as plt\n",
    "import seaborn as sns\n",
    "\n",
    "sns.set(font_scale=1.4)"
   ]
  },
  {
   "cell_type": "code",
   "execution_count": null,
   "metadata": {},
   "outputs": [],
   "source": [
    "df_mnist = pd.read_csv(\"../data/results/mnist_coeficients.csv\")\n",
    "\n",
    "df_qif = df_mnist[df_mnist.method == \"QIF\"].drop(\"method\", axis=1)\n",
    "\n",
    "df_shap = pd.read_csv(\"../data/results/shap_explanation_sample.csv\").drop(\"preds_proba\", axis=1)\n",
    "df_shap[\"targets\"] = df_shap[\"targets\"].astype(int)"
   ]
  },
  {
   "cell_type": "markdown",
   "metadata": {},
   "source": [
    "#### SHAP Visualization"
   ]
  },
  {
   "cell_type": "code",
   "execution_count": null,
   "metadata": {},
   "outputs": [],
   "source": [
    "fig, axs = plt.subplots(nrows=3, ncols=3, figsize=(9,9))\n",
    "\n",
    "for digit in range(1,10):\n",
    "    values = df_shap[df_shap.targets == digit].drop(\"targets\", axis=1).values.reshape((28,28))\n",
    "    \n",
    "    row = (digit-1) // 3\n",
    "    col = (digit-1) % 3\n",
    "    axs[row, col].imshow(values)\n",
    "    axs[row, col].axis('off')\n",
    "plt.subplots_adjust(hspace=0.1, wspace=0.1)\n",
    "plt.show()"
   ]
  },
  {
   "cell_type": "markdown",
   "metadata": {},
   "source": [
    "#### QIF Visualization"
   ]
  },
  {
   "cell_type": "code",
   "execution_count": null,
   "metadata": {},
   "outputs": [],
   "source": [
    "fig, axs = plt.subplots(nrows=3, ncols=3, figsize=(9,9))\n",
    "\n",
    "for digit in range(1,10):\n",
    "    values = df_qif[df_qif.digit == digit].drop(\"digit\", axis=1).values.reshape((28,28))\n",
    "    \n",
    "    row = (digit-1) // 3\n",
    "    col = (digit-1) % 3\n",
    "    axs[row, col].imshow(values)\n",
    "    axs[row, col].axis('off')\n",
    "plt.subplots_adjust(hspace=0.1, wspace=0.1)\n",
    "plt.show()"
   ]
  },
  {
   "cell_type": "code",
   "execution_count": null,
   "metadata": {},
   "outputs": [],
   "source": []
  }
 ],
 "metadata": {
  "kernelspec": {
   "display_name": "Python 3",
   "language": "python",
   "name": "python3"
  },
  "language_info": {
   "codemirror_mode": {
    "name": "ipython",
    "version": 3
   },
   "file_extension": ".py",
   "mimetype": "text/x-python",
   "name": "python",
   "nbconvert_exporter": "python",
   "pygments_lexer": "ipython3",
   "version": "3.7.6"
  }
 },
 "nbformat": 4,
 "nbformat_minor": 4
}
