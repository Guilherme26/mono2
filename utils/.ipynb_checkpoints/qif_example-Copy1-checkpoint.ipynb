{
 "cells": [
  {
   "cell_type": "code",
   "execution_count": 1,
   "metadata": {
    "ExecuteTime": {
     "end_time": "2020-08-23T21:04:07.649134Z",
     "start_time": "2020-08-23T21:04:07.524840Z"
    }
   },
   "outputs": [],
   "source": [
    "import qif\n",
    "import datasets"
   ]
  },
  {
   "cell_type": "code",
   "execution_count": 2,
   "metadata": {
    "ExecuteTime": {
     "end_time": "2020-08-23T21:04:07.768935Z",
     "start_time": "2020-08-23T21:04:07.650114Z"
    }
   },
   "outputs": [],
   "source": [
    "adult = datasets.load_data_adult()\n",
    "german = datasets.load_data_german()\n",
    "breast_w = datasets.load_data_breastw()"
   ]
  },
  {
   "cell_type": "code",
   "execution_count": 3,
   "metadata": {
    "ExecuteTime": {
     "end_time": "2020-08-23T21:04:07.771218Z",
     "start_time": "2020-08-23T21:04:07.769740Z"
    }
   },
   "outputs": [],
   "source": [
    "bayes_leakage = qif.BayesLeakage(adult)"
   ]
  },
  {
   "cell_type": "code",
   "execution_count": 4,
   "metadata": {
    "ExecuteTime": {
     "end_time": "2020-08-23T21:04:07.793892Z",
     "start_time": "2020-08-23T21:04:07.771852Z"
    }
   },
   "outputs": [
    {
     "data": {
      "text/plain": [
       "(1.28526890101325, 1.0000000000000002)"
      ]
     },
     "execution_count": 4,
     "metadata": {},
     "output_type": "execute_result"
    }
   ],
   "source": [
    "# parametros default: vulnerability_type = 'average' e leakage_type = 'multiplicative'\n",
    "bayes_leakage.compute_flows(x='age', y='target')"
   ]
  },
  {
   "cell_type": "code",
   "execution_count": 5,
   "metadata": {
    "ExecuteTime": {
     "end_time": "2020-08-23T21:04:07.814551Z",
     "start_time": "2020-08-23T21:04:07.794558Z"
    }
   },
   "outputs": [
    {
     "data": {
      "text/plain": [
       "(1.3491252768454554, 1.3295113776680192)"
      ]
     },
     "execution_count": 5,
     "metadata": {},
     "output_type": "execute_result"
    }
   ],
   "source": [
    "bayes_leakage.compute_flows(x='age', y='target', vulnerability_type='maximum')"
   ]
  },
  {
   "cell_type": "code",
   "execution_count": 6,
   "metadata": {
    "ExecuteTime": {
     "end_time": "2020-08-23T21:04:07.825521Z",
     "start_time": "2020-08-23T21:04:07.815277Z"
    }
   },
   "outputs": [
    {
     "data": {
      "text/plain": [
       "(0.008093405864402277, 1.1102230246251565e-16)"
      ]
     },
     "execution_count": 6,
     "metadata": {},
     "output_type": "execute_result"
    }
   ],
   "source": [
    "bayes_leakage.compute_flows(x='age', y='target', leakage_type='additive')"
   ]
  },
  {
   "cell_type": "code",
   "execution_count": 7,
   "metadata": {
    "ExecuteTime": {
     "end_time": "2020-08-23T21:04:07.846356Z",
     "start_time": "2020-08-23T21:04:07.826384Z"
    }
   },
   "outputs": [
    {
     "data": {
      "text/plain": [
       "(0.009905084476421196, 0.24784396974923717)"
      ]
     },
     "execution_count": 7,
     "metadata": {},
     "output_type": "execute_result"
    }
   ],
   "source": [
    "bayes_leakage.compute_flows(x='age', y='target', vulnerability_type='maximum', leakage_type='additive')"
   ]
  }
 ],
 "metadata": {
  "kernelspec": {
   "display_name": "Python 3",
   "language": "python",
   "name": "python3"
  },
  "language_info": {
   "codemirror_mode": {
    "name": "ipython",
    "version": 3
   },
   "file_extension": ".py",
   "mimetype": "text/x-python",
   "name": "python",
   "nbconvert_exporter": "python",
   "pygments_lexer": "ipython3",
   "version": "3.7.6"
  },
  "toc": {
   "base_numbering": 1,
   "nav_menu": {},
   "number_sections": true,
   "sideBar": true,
   "skip_h1_title": false,
   "title_cell": "Table of Contents",
   "title_sidebar": "Contents",
   "toc_cell": false,
   "toc_position": {},
   "toc_section_display": true,
   "toc_window_display": false
  }
 },
 "nbformat": 4,
 "nbformat_minor": 4
}
